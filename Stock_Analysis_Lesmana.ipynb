{
  "nbformat": 4,
  "nbformat_minor": 0,
  "metadata": {
    "colab": {
      "name": "Stock_Analysis_Dedi_Lesmana.ipynb",
      "provenance": [],
      "collapsed_sections": []
    },
    "kernelspec": {
      "name": "python3",
      "display_name": "Python 3"
    },
    "language_info": {
      "name": "python"
    }
  },
  "cells": [
    {
      "cell_type": "code",
      "metadata": {
        "colab": {
          "base_uri": "https://localhost:8080/"
        },
        "id": "shvwV-vxh_lL",
        "outputId": "cc35897c-ee66-4dfa-c262-6722593e5769"
      },
      "source": [
        "!pip install --upgrade pandas\n",
        "!pip install web.py\n",
        "!pip install pandas-datareader\n",
        "!pip install yfinance\n",
        "!pip install fix_yahoo_finance"
      ],
      "execution_count": null,
      "outputs": [
        {
          "output_type": "stream",
          "name": "stdout",
          "text": [
            "Requirement already satisfied: pandas in /usr/local/lib/python3.7/dist-packages (1.3.3)\n",
            "Requirement already satisfied: numpy>=1.17.3 in /usr/local/lib/python3.7/dist-packages (from pandas) (1.19.5)\n",
            "Requirement already satisfied: python-dateutil>=2.7.3 in /usr/local/lib/python3.7/dist-packages (from pandas) (2.8.2)\n",
            "Requirement already satisfied: pytz>=2017.3 in /usr/local/lib/python3.7/dist-packages (from pandas) (2018.9)\n",
            "Requirement already satisfied: six>=1.5 in /usr/local/lib/python3.7/dist-packages (from python-dateutil>=2.7.3->pandas) (1.15.0)\n",
            "Requirement already satisfied: web.py in /usr/local/lib/python3.7/dist-packages (0.62)\n",
            "Requirement already satisfied: cheroot in /usr/local/lib/python3.7/dist-packages (from web.py) (8.5.2)\n",
            "Requirement already satisfied: more-itertools>=2.6 in /usr/local/lib/python3.7/dist-packages (from cheroot->web.py) (8.10.0)\n",
            "Requirement already satisfied: jaraco.functools in /usr/local/lib/python3.7/dist-packages (from cheroot->web.py) (3.3.0)\n",
            "Requirement already satisfied: six>=1.11.0 in /usr/local/lib/python3.7/dist-packages (from cheroot->web.py) (1.15.0)\n",
            "Requirement already satisfied: pandas-datareader in /usr/local/lib/python3.7/dist-packages (0.10.0)\n",
            "Requirement already satisfied: requests>=2.19.0 in /usr/local/lib/python3.7/dist-packages (from pandas-datareader) (2.23.0)\n",
            "Requirement already satisfied: lxml in /usr/local/lib/python3.7/dist-packages (from pandas-datareader) (4.6.3)\n",
            "Requirement already satisfied: pandas>=0.23 in /usr/local/lib/python3.7/dist-packages (from pandas-datareader) (1.3.3)\n",
            "Requirement already satisfied: pytz>=2017.3 in /usr/local/lib/python3.7/dist-packages (from pandas>=0.23->pandas-datareader) (2018.9)\n",
            "Requirement already satisfied: python-dateutil>=2.7.3 in /usr/local/lib/python3.7/dist-packages (from pandas>=0.23->pandas-datareader) (2.8.2)\n",
            "Requirement already satisfied: numpy>=1.17.3 in /usr/local/lib/python3.7/dist-packages (from pandas>=0.23->pandas-datareader) (1.19.5)\n",
            "Requirement already satisfied: six>=1.5 in /usr/local/lib/python3.7/dist-packages (from python-dateutil>=2.7.3->pandas>=0.23->pandas-datareader) (1.15.0)\n",
            "Requirement already satisfied: certifi>=2017.4.17 in /usr/local/lib/python3.7/dist-packages (from requests>=2.19.0->pandas-datareader) (2021.5.30)\n",
            "Requirement already satisfied: idna<3,>=2.5 in /usr/local/lib/python3.7/dist-packages (from requests>=2.19.0->pandas-datareader) (2.10)\n",
            "Requirement already satisfied: urllib3!=1.25.0,!=1.25.1,<1.26,>=1.21.1 in /usr/local/lib/python3.7/dist-packages (from requests>=2.19.0->pandas-datareader) (1.24.3)\n",
            "Requirement already satisfied: chardet<4,>=3.0.2 in /usr/local/lib/python3.7/dist-packages (from requests>=2.19.0->pandas-datareader) (3.0.4)\n",
            "Requirement already satisfied: yfinance in /usr/local/lib/python3.7/dist-packages (0.1.63)\n",
            "Requirement already satisfied: requests>=2.20 in /usr/local/lib/python3.7/dist-packages (from yfinance) (2.23.0)\n",
            "Requirement already satisfied: numpy>=1.15 in /usr/local/lib/python3.7/dist-packages (from yfinance) (1.19.5)\n",
            "Requirement already satisfied: pandas>=0.24 in /usr/local/lib/python3.7/dist-packages (from yfinance) (1.3.3)\n",
            "Requirement already satisfied: lxml>=4.5.1 in /usr/local/lib/python3.7/dist-packages (from yfinance) (4.6.3)\n",
            "Requirement already satisfied: multitasking>=0.0.7 in /usr/local/lib/python3.7/dist-packages (from yfinance) (0.0.9)\n",
            "Requirement already satisfied: python-dateutil>=2.7.3 in /usr/local/lib/python3.7/dist-packages (from pandas>=0.24->yfinance) (2.8.2)\n",
            "Requirement already satisfied: pytz>=2017.3 in /usr/local/lib/python3.7/dist-packages (from pandas>=0.24->yfinance) (2018.9)\n",
            "Requirement already satisfied: six>=1.5 in /usr/local/lib/python3.7/dist-packages (from python-dateutil>=2.7.3->pandas>=0.24->yfinance) (1.15.0)\n",
            "Requirement already satisfied: certifi>=2017.4.17 in /usr/local/lib/python3.7/dist-packages (from requests>=2.20->yfinance) (2021.5.30)\n",
            "Requirement already satisfied: urllib3!=1.25.0,!=1.25.1,<1.26,>=1.21.1 in /usr/local/lib/python3.7/dist-packages (from requests>=2.20->yfinance) (1.24.3)\n",
            "Requirement already satisfied: chardet<4,>=3.0.2 in /usr/local/lib/python3.7/dist-packages (from requests>=2.20->yfinance) (3.0.4)\n",
            "Requirement already satisfied: idna<3,>=2.5 in /usr/local/lib/python3.7/dist-packages (from requests>=2.20->yfinance) (2.10)\n",
            "Requirement already satisfied: fix_yahoo_finance in /usr/local/lib/python3.7/dist-packages (0.0.22)\n",
            "Requirement already satisfied: requests in /usr/local/lib/python3.7/dist-packages (from fix_yahoo_finance) (2.23.0)\n",
            "Requirement already satisfied: multitasking in /usr/local/lib/python3.7/dist-packages (from fix_yahoo_finance) (0.0.9)\n",
            "Requirement already satisfied: numpy in /usr/local/lib/python3.7/dist-packages (from fix_yahoo_finance) (1.19.5)\n",
            "Requirement already satisfied: pandas in /usr/local/lib/python3.7/dist-packages (from fix_yahoo_finance) (1.3.3)\n",
            "Requirement already satisfied: python-dateutil>=2.7.3 in /usr/local/lib/python3.7/dist-packages (from pandas->fix_yahoo_finance) (2.8.2)\n",
            "Requirement already satisfied: pytz>=2017.3 in /usr/local/lib/python3.7/dist-packages (from pandas->fix_yahoo_finance) (2018.9)\n",
            "Requirement already satisfied: six>=1.5 in /usr/local/lib/python3.7/dist-packages (from python-dateutil>=2.7.3->pandas->fix_yahoo_finance) (1.15.0)\n",
            "Requirement already satisfied: urllib3!=1.25.0,!=1.25.1,<1.26,>=1.21.1 in /usr/local/lib/python3.7/dist-packages (from requests->fix_yahoo_finance) (1.24.3)\n",
            "Requirement already satisfied: chardet<4,>=3.0.2 in /usr/local/lib/python3.7/dist-packages (from requests->fix_yahoo_finance) (3.0.4)\n",
            "Requirement already satisfied: certifi>=2017.4.17 in /usr/local/lib/python3.7/dist-packages (from requests->fix_yahoo_finance) (2021.5.30)\n",
            "Requirement already satisfied: idna<3,>=2.5 in /usr/local/lib/python3.7/dist-packages (from requests->fix_yahoo_finance) (2.10)\n"
          ]
        }
      ]
    },
    {
      "cell_type": "code",
      "metadata": {
        "id": "X-b8pU1_SYGU"
      },
      "source": [
        "import pandas_datareader.data as web\n",
        "import pandas_datareader as pdr\n",
        "import numpy as np\n",
        "import matplotlib.pyplot as plt\n",
        "import pandas as pd\n",
        "import pandas_datareader as date\n",
        "import web as dt\n",
        "import datetime as dt"
      ],
      "execution_count": null,
      "outputs": []
    },
    {
      "cell_type": "code",
      "metadata": {
        "colab": {
          "base_uri": "https://localhost:8080/",
          "height": 447
        },
        "id": "bNGDf7A4g18J",
        "outputId": "337c05e3-25bd-47a0-d5d6-802bcd575e0c"
      },
      "source": [
        "BBCA = web.DataReader('BBCA', 'yahoo', start='2014-01-01', end='2021-01-01')\n",
        "BBCA"
      ],
      "execution_count": null,
      "outputs": [
        {
          "output_type": "execute_result",
          "data": {
            "text/html": [
              "<div>\n",
              "<style scoped>\n",
              "    .dataframe tbody tr th:only-of-type {\n",
              "        vertical-align: middle;\n",
              "    }\n",
              "\n",
              "    .dataframe tbody tr th {\n",
              "        vertical-align: top;\n",
              "    }\n",
              "\n",
              "    .dataframe thead th {\n",
              "        text-align: right;\n",
              "    }\n",
              "</style>\n",
              "<table border=\"1\" class=\"dataframe\">\n",
              "  <thead>\n",
              "    <tr style=\"text-align: right;\">\n",
              "      <th></th>\n",
              "      <th>High</th>\n",
              "      <th>Low</th>\n",
              "      <th>Open</th>\n",
              "      <th>Close</th>\n",
              "      <th>Volume</th>\n",
              "      <th>Adj Close</th>\n",
              "    </tr>\n",
              "    <tr>\n",
              "      <th>Date</th>\n",
              "      <th></th>\n",
              "      <th></th>\n",
              "      <th></th>\n",
              "      <th></th>\n",
              "      <th></th>\n",
              "      <th></th>\n",
              "    </tr>\n",
              "  </thead>\n",
              "  <tbody>\n",
              "    <tr>\n",
              "      <th>2018-08-09</th>\n",
              "      <td>49.419998</td>\n",
              "      <td>49.419998</td>\n",
              "      <td>49.419998</td>\n",
              "      <td>49.419998</td>\n",
              "      <td>0.0</td>\n",
              "      <td>45.657333</td>\n",
              "    </tr>\n",
              "    <tr>\n",
              "      <th>2018-08-10</th>\n",
              "      <td>49.459999</td>\n",
              "      <td>49.459999</td>\n",
              "      <td>49.459999</td>\n",
              "      <td>49.459999</td>\n",
              "      <td>100.0</td>\n",
              "      <td>45.694294</td>\n",
              "    </tr>\n",
              "    <tr>\n",
              "      <th>2018-08-13</th>\n",
              "      <td>49.259998</td>\n",
              "      <td>48.959999</td>\n",
              "      <td>49.160000</td>\n",
              "      <td>49.080002</td>\n",
              "      <td>3060150.0</td>\n",
              "      <td>45.343224</td>\n",
              "    </tr>\n",
              "    <tr>\n",
              "      <th>2018-08-14</th>\n",
              "      <td>49.740002</td>\n",
              "      <td>49.360001</td>\n",
              "      <td>49.360001</td>\n",
              "      <td>49.740002</td>\n",
              "      <td>9491250.0</td>\n",
              "      <td>45.952972</td>\n",
              "    </tr>\n",
              "    <tr>\n",
              "      <th>2018-08-15</th>\n",
              "      <td>49.060001</td>\n",
              "      <td>48.480000</td>\n",
              "      <td>48.799999</td>\n",
              "      <td>48.619999</td>\n",
              "      <td>6709650.0</td>\n",
              "      <td>44.918251</td>\n",
              "    </tr>\n",
              "    <tr>\n",
              "      <th>...</th>\n",
              "      <td>...</td>\n",
              "      <td>...</td>\n",
              "      <td>...</td>\n",
              "      <td>...</td>\n",
              "      <td>...</td>\n",
              "      <td>...</td>\n",
              "    </tr>\n",
              "    <tr>\n",
              "      <th>2020-12-24</th>\n",
              "      <td>54.119999</td>\n",
              "      <td>53.740002</td>\n",
              "      <td>53.740002</td>\n",
              "      <td>54.119999</td>\n",
              "      <td>97650.0</td>\n",
              "      <td>53.344208</td>\n",
              "    </tr>\n",
              "    <tr>\n",
              "      <th>2020-12-28</th>\n",
              "      <td>54.680000</td>\n",
              "      <td>53.619999</td>\n",
              "      <td>54.419998</td>\n",
              "      <td>53.740002</td>\n",
              "      <td>115350.0</td>\n",
              "      <td>52.969650</td>\n",
              "    </tr>\n",
              "    <tr>\n",
              "      <th>2020-12-29</th>\n",
              "      <td>54.160000</td>\n",
              "      <td>53.660000</td>\n",
              "      <td>54.060001</td>\n",
              "      <td>53.820000</td>\n",
              "      <td>74800.0</td>\n",
              "      <td>53.048504</td>\n",
              "    </tr>\n",
              "    <tr>\n",
              "      <th>2020-12-30</th>\n",
              "      <td>54.220001</td>\n",
              "      <td>53.799999</td>\n",
              "      <td>53.799999</td>\n",
              "      <td>54.020000</td>\n",
              "      <td>110450.0</td>\n",
              "      <td>53.245644</td>\n",
              "    </tr>\n",
              "    <tr>\n",
              "      <th>2020-12-31</th>\n",
              "      <td>54.119999</td>\n",
              "      <td>53.599998</td>\n",
              "      <td>53.980000</td>\n",
              "      <td>53.660000</td>\n",
              "      <td>145900.0</td>\n",
              "      <td>52.890804</td>\n",
              "    </tr>\n",
              "  </tbody>\n",
              "</table>\n",
              "<p>604 rows × 6 columns</p>\n",
              "</div>"
            ],
            "text/plain": [
              "                 High        Low       Open      Close     Volume  Adj Close\n",
              "Date                                                                        \n",
              "2018-08-09  49.419998  49.419998  49.419998  49.419998        0.0  45.657333\n",
              "2018-08-10  49.459999  49.459999  49.459999  49.459999      100.0  45.694294\n",
              "2018-08-13  49.259998  48.959999  49.160000  49.080002  3060150.0  45.343224\n",
              "2018-08-14  49.740002  49.360001  49.360001  49.740002  9491250.0  45.952972\n",
              "2018-08-15  49.060001  48.480000  48.799999  48.619999  6709650.0  44.918251\n",
              "...               ...        ...        ...        ...        ...        ...\n",
              "2020-12-24  54.119999  53.740002  53.740002  54.119999    97650.0  53.344208\n",
              "2020-12-28  54.680000  53.619999  54.419998  53.740002   115350.0  52.969650\n",
              "2020-12-29  54.160000  53.660000  54.060001  53.820000    74800.0  53.048504\n",
              "2020-12-30  54.220001  53.799999  53.799999  54.020000   110450.0  53.245644\n",
              "2020-12-31  54.119999  53.599998  53.980000  53.660000   145900.0  52.890804\n",
              "\n",
              "[604 rows x 6 columns]"
            ]
          },
          "metadata": {},
          "execution_count": 19
        }
      ]
    },
    {
      "cell_type": "code",
      "metadata": {
        "colab": {
          "base_uri": "https://localhost:8080/",
          "height": 388
        },
        "id": "IBb1PDWMt7-9",
        "outputId": "c31ce0c6-389c-4c08-ecb2-ee054464f76b"
      },
      "source": [
        "BBCA = BBCA[['Adj Close']].rename(columns={'Adj Close':'Price'}).copy()\n",
        "BBCA.tail(10)"
      ],
      "execution_count": null,
      "outputs": [
        {
          "output_type": "execute_result",
          "data": {
            "text/html": [
              "<div>\n",
              "<style scoped>\n",
              "    .dataframe tbody tr th:only-of-type {\n",
              "        vertical-align: middle;\n",
              "    }\n",
              "\n",
              "    .dataframe tbody tr th {\n",
              "        vertical-align: top;\n",
              "    }\n",
              "\n",
              "    .dataframe thead th {\n",
              "        text-align: right;\n",
              "    }\n",
              "</style>\n",
              "<table border=\"1\" class=\"dataframe\">\n",
              "  <thead>\n",
              "    <tr style=\"text-align: right;\">\n",
              "      <th></th>\n",
              "      <th>Price</th>\n",
              "    </tr>\n",
              "    <tr>\n",
              "      <th>Date</th>\n",
              "      <th></th>\n",
              "    </tr>\n",
              "  </thead>\n",
              "  <tbody>\n",
              "    <tr>\n",
              "      <th>2020-12-17</th>\n",
              "      <td>53.669285</td>\n",
              "    </tr>\n",
              "    <tr>\n",
              "      <th>2020-12-18</th>\n",
              "      <td>53.082733</td>\n",
              "    </tr>\n",
              "    <tr>\n",
              "      <th>2020-12-21</th>\n",
              "      <td>52.691700</td>\n",
              "    </tr>\n",
              "    <tr>\n",
              "      <th>2020-12-22</th>\n",
              "      <td>52.713383</td>\n",
              "    </tr>\n",
              "    <tr>\n",
              "      <th>2020-12-23</th>\n",
              "      <td>52.930229</td>\n",
              "    </tr>\n",
              "    <tr>\n",
              "      <th>2020-12-24</th>\n",
              "      <td>53.344208</td>\n",
              "    </tr>\n",
              "    <tr>\n",
              "      <th>2020-12-28</th>\n",
              "      <td>52.969650</td>\n",
              "    </tr>\n",
              "    <tr>\n",
              "      <th>2020-12-29</th>\n",
              "      <td>53.048504</td>\n",
              "    </tr>\n",
              "    <tr>\n",
              "      <th>2020-12-30</th>\n",
              "      <td>53.245644</td>\n",
              "    </tr>\n",
              "    <tr>\n",
              "      <th>2020-12-31</th>\n",
              "      <td>52.890804</td>\n",
              "    </tr>\n",
              "  </tbody>\n",
              "</table>\n",
              "</div>"
            ],
            "text/plain": [
              "                Price\n",
              "Date                 \n",
              "2020-12-17  53.669285\n",
              "2020-12-18  53.082733\n",
              "2020-12-21  52.691700\n",
              "2020-12-22  52.713383\n",
              "2020-12-23  52.930229\n",
              "2020-12-24  53.344208\n",
              "2020-12-28  52.969650\n",
              "2020-12-29  53.048504\n",
              "2020-12-30  53.245644\n",
              "2020-12-31  52.890804"
            ]
          },
          "metadata": {},
          "execution_count": 21
        }
      ]
    },
    {
      "cell_type": "markdown",
      "metadata": {
        "id": "vDAwRk44eUU9"
      },
      "source": [
        "#Visualisasi Data dengan Matplotlib"
      ]
    },
    {
      "cell_type": "code",
      "metadata": {
        "id": "9kaIxxdiUHHM"
      },
      "source": [
        "import matplotlib.pyplot as plt\n",
        "from matplotlib import dates as mpl_dates\n",
        "plt.style.use('seaborn')"
      ],
      "execution_count": null,
      "outputs": []
    },
    {
      "cell_type": "code",
      "metadata": {
        "id": "jgw5bNgMUHFv",
        "colab": {
          "base_uri": "https://localhost:8080/",
          "height": 591
        },
        "outputId": "3d5bd22a-5357-4056-8104-9d816bd5757c"
      },
      "source": [
        "plt.figure(figsize=(16,10))\n",
        "plt.plot(BBCA['Price'], '-')\n",
        "plt.gcf().autofmt_xdate()\n",
        "plt.title('Perkembangan Harga Saham BBCA Dari Tahun 2014 s.d Tahun 2020', fontsize=16)\n",
        "plt.xlabel('Date', fontsize=14)\n",
        "plt.ylabel('Price in $', fontsize=14)\n",
        "plt.show()"
      ],
      "execution_count": null,
      "outputs": [
        {
          "output_type": "display_data",
          "data": {
            "image/png": "[encoded data removed]",
            "text/plain": [
              "<Figure size 1152x720 with 1 Axes>"
            ]
          },
          "metadata": {}
        }
      ]
    },
    {
      "cell_type": "code",
      "metadata": {
        "id": "dS6ZUO37ZBpj",
        "colab": {
          "base_uri": "https://localhost:8080/"
        },
        "outputId": "607545ad-5a93-43d6-cf19-93ec86af9122"
      },
      "source": [
        "import numpy as np\n",
        "Price_2014 = BBCA['Price'][0]\n",
        "Price_2021 = BBCA['Price'][-1]\n",
        "roi = np.log(Price_2014 / Price_2021)*100 #Logarithmic Return (Tingkat Pengembalian)\n",
        "print(f'Price on {BBCA.index[0].strftime(\"%d-%m-%Y\")} : ${round(Price_2014, 2)}')\n",
        "print(f'Price on {BBCA.index[-1].strftime(\"%d-%m-%Y\")} : ${round(Price_2021, 2)}')\n",
        "print(f'Return of Investment: {round(roi, 2)}%')"
      ],
      "execution_count": null,
      "outputs": [
        {
          "output_type": "stream",
          "name": "stdout",
          "text": [
            "Price on 09-08-2018 : $45.66\n",
            "Price on 31-12-2020 : $52.89\n",
            "Return of Investment: -14.71%\n"
          ]
        }
      ]
    },
    {
      "cell_type": "markdown",
      "metadata": {
        "id": "H7M-qx2HfnyB"
      },
      "source": [
        "Data Analysis"
      ]
    },
    {
      "cell_type": "code",
      "metadata": {
        "id": "Zb8kl2mjbLg8",
        "colab": {
          "base_uri": "https://localhost:8080/",
          "height": 447
        },
        "outputId": "a2de914b-9cc3-4fa2-d7b6-76fd1f171984"
      },
      "source": [
        "BBCA['Price d+1'] = BBCA['Price'].shift(-1)\n",
        "BBCA['ROI'] = np.log(BBCA['Price d+1'] / BBCA['Price']) * 100\n",
        "BBCA"
      ],
      "execution_count": null,
      "outputs": [
        {
          "output_type": "execute_result",
          "data": {
            "text/html": [
              "<div>\n",
              "<style scoped>\n",
              "    .dataframe tbody tr th:only-of-type {\n",
              "        vertical-align: middle;\n",
              "    }\n",
              "\n",
              "    .dataframe tbody tr th {\n",
              "        vertical-align: top;\n",
              "    }\n",
              "\n",
              "    .dataframe thead th {\n",
              "        text-align: right;\n",
              "    }\n",
              "</style>\n",
              "<table border=\"1\" class=\"dataframe\">\n",
              "  <thead>\n",
              "    <tr style=\"text-align: right;\">\n",
              "      <th></th>\n",
              "      <th>Price</th>\n",
              "      <th>Price d+1</th>\n",
              "      <th>ROI</th>\n",
              "    </tr>\n",
              "    <tr>\n",
              "      <th>Date</th>\n",
              "      <th></th>\n",
              "      <th></th>\n",
              "      <th></th>\n",
              "    </tr>\n",
              "  </thead>\n",
              "  <tbody>\n",
              "    <tr>\n",
              "      <th>2018-08-09</th>\n",
              "      <td>45.657333</td>\n",
              "      <td>45.694294</td>\n",
              "      <td>0.080919</td>\n",
              "    </tr>\n",
              "    <tr>\n",
              "      <th>2018-08-10</th>\n",
              "      <td>45.694294</td>\n",
              "      <td>45.343224</td>\n",
              "      <td>-0.771269</td>\n",
              "    </tr>\n",
              "    <tr>\n",
              "      <th>2018-08-13</th>\n",
              "      <td>45.343224</td>\n",
              "      <td>45.952972</td>\n",
              "      <td>1.335779</td>\n",
              "    </tr>\n",
              "    <tr>\n",
              "      <th>2018-08-14</th>\n",
              "      <td>45.952972</td>\n",
              "      <td>44.918251</td>\n",
              "      <td>-2.277434</td>\n",
              "    </tr>\n",
              "    <tr>\n",
              "      <th>2018-08-15</th>\n",
              "      <td>44.918251</td>\n",
              "      <td>45.158451</td>\n",
              "      <td>0.533325</td>\n",
              "    </tr>\n",
              "    <tr>\n",
              "      <th>...</th>\n",
              "      <td>...</td>\n",
              "      <td>...</td>\n",
              "      <td>...</td>\n",
              "    </tr>\n",
              "    <tr>\n",
              "      <th>2020-12-24</th>\n",
              "      <td>53.344208</td>\n",
              "      <td>52.969650</td>\n",
              "      <td>-0.704629</td>\n",
              "    </tr>\n",
              "    <tr>\n",
              "      <th>2020-12-28</th>\n",
              "      <td>52.969650</td>\n",
              "      <td>53.048504</td>\n",
              "      <td>0.148755</td>\n",
              "    </tr>\n",
              "    <tr>\n",
              "      <th>2020-12-29</th>\n",
              "      <td>53.048504</td>\n",
              "      <td>53.245644</td>\n",
              "      <td>0.370933</td>\n",
              "    </tr>\n",
              "    <tr>\n",
              "      <th>2020-12-30</th>\n",
              "      <td>53.245644</td>\n",
              "      <td>52.890804</td>\n",
              "      <td>-0.668650</td>\n",
              "    </tr>\n",
              "    <tr>\n",
              "      <th>2020-12-31</th>\n",
              "      <td>52.890804</td>\n",
              "      <td>NaN</td>\n",
              "      <td>NaN</td>\n",
              "    </tr>\n",
              "  </tbody>\n",
              "</table>\n",
              "<p>604 rows × 3 columns</p>\n",
              "</div>"
            ],
            "text/plain": [
              "                Price  Price d+1       ROI\n",
              "Date                                      \n",
              "2018-08-09  45.657333  45.694294  0.080919\n",
              "2018-08-10  45.694294  45.343224 -0.771269\n",
              "2018-08-13  45.343224  45.952972  1.335779\n",
              "2018-08-14  45.952972  44.918251 -2.277434\n",
              "2018-08-15  44.918251  45.158451  0.533325\n",
              "...               ...        ...       ...\n",
              "2020-12-24  53.344208  52.969650 -0.704629\n",
              "2020-12-28  52.969650  53.048504  0.148755\n",
              "2020-12-29  53.048504  53.245644  0.370933\n",
              "2020-12-30  53.245644  52.890804 -0.668650\n",
              "2020-12-31  52.890804        NaN       NaN\n",
              "\n",
              "[604 rows x 3 columns]"
            ]
          },
          "metadata": {},
          "execution_count": 25
        }
      ]
    }
  ]
}